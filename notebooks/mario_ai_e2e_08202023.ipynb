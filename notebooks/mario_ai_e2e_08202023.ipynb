{
  "nbformat": 4,
  "nbformat_minor": 0,
  "metadata": {
    "colab": {
      "provenance": [],
      "authorship_tag": "ABX9TyPWx4K1r6ZCtwkBXGH0LP/g",
      "include_colab_link": true
    },
    "kernelspec": {
      "name": "python3",
      "display_name": "Python 3"
    },
    "language_info": {
      "name": "python"
    }
  },
  "cells": [
    {
      "cell_type": "markdown",
      "metadata": {
        "id": "view-in-github",
        "colab_type": "text"
      },
      "source": [
        "<a href=\"https://colab.research.google.com/github/hululuzhu/mario-ai-2023/blob/main/notebooks/mario_ai_e2e_08202023.ipynb\" target=\"_parent\"><img src=\"https://colab.research.google.com/assets/colab-badge.svg\" alt=\"Open In Colab\"/></a>"
      ]
    },
    {
      "cell_type": "markdown",
      "source": [
        "# An end-to-end under-trained Mario AI\n",
        "- Contact: hululu.zhu@gmail.com\n",
        "- Last update: 08/20/2023\n",
        "- Note we used old versions of gym+SB3 for compabitility\n",
        "- Also note low-memory CPU instance (free tier) is good enough to get started, high-end GPU istances will speed up 2x or so"
      ],
      "metadata": {
        "id": "ypWRVWjkpnJt"
      }
    },
    {
      "cell_type": "code",
      "execution_count": null,
      "metadata": {
        "cellView": "form",
        "id": "Widj3LfDphNF"
      },
      "outputs": [],
      "source": [
        "# @title Run me to import necessary packages and set path\n",
        "print(\"-\" * 80, \"\\nQuiet install. ~5mins, be patient plz.\\n\" + \"-\" * 80)\n",
        "!git clone --quiet https://github.com/hululuzhu/mario-ai-2023.git > /dev/null\n",
        "!pip install -r mario-ai-2023/requirements.txt > /dev/null 2>&1\n",
        "\n",
        "import warnings\n",
        "warnings.filterwarnings('ignore')\n",
        "\n",
        "import os, sys\n",
        "sys.path.append(os.path.abspath(\"/content/mario-ai-2023/lib\"))\n",
        "\n",
        "import game_env\n",
        "import game_control\n",
        "from IPython.display import Image as displayImage\n",
        "from stable_baselines3 import PPO\n",
        "from game_visual import glance_env, evaluate\n",
        "import torch\n",
        "from PIL import Image"
      ]
    },
    {
      "cell_type": "code",
      "source": [
        "# @title Choose world/stage and initialize game\n",
        "MY_WORLD = 1 # @param [1,2,3,4,5,6,7,8]\n",
        "MY_STAGE = 1 # @param [1,2,3,4]\n",
        "mario_env = game_env.build_single_env(\n",
        "    game_control.get_env_name(MY_WORLD, MY_STAGE),\n",
        "    action_list=game_control.SIMPLE_ACTIONS)"
      ],
      "metadata": {
        "id": "m2xZGaA4p-V_"
      },
      "execution_count": null,
      "outputs": []
    },
    {
      "cell_type": "code",
      "source": [
        "# @title Quick glance of the game with a smart AI\n",
        "\n",
        "glance_env(mario_env, '/tmp/mario_train_glance_01.gif')\n",
        "displayImage(open('/tmp/mario_train_glance_01.gif','rb').read())"
      ],
      "metadata": {
        "id": "eGWoKA_Uqaic"
      },
      "execution_count": null,
      "outputs": []
    },
    {
      "cell_type": "code",
      "source": [
        "# @title Initialize the AI program\n",
        "mario_ppo = PPO('MlpPolicy', mario_env, tensorboard_log=\"mario_ai\",\n",
        "                n_steps=128) # Reduce n_steps to be a bit more verbose in logging"
      ],
      "metadata": {
        "id": "k45AdZglrR3V"
      },
      "execution_count": null,
      "outputs": []
    },
    {
      "cell_type": "code",
      "source": [
        "# @title We use TensorBoard to track \"Learning\" progress, \"rollout/ep_rew_mean\" is most important\n",
        "%reload_ext tensorboard\n",
        "# Note the pattern of logdir, 'mario_ai' matches to mario_ppo definition,\n",
        "# 'ppo_mlp_1m_N' matches to learn code below\n",
        "%tensorboard --logdir mario_ai/ppo_mlp_1m_1 --reload_multifile True"
      ],
      "metadata": {
        "id": "7p3TTJnorrK4"
      },
      "execution_count": null,
      "outputs": []
    },
    {
      "cell_type": "code",
      "source": [
        "# @title Kick off the training now! A \"sufficient\" training requires 40 million+....\n",
        "# TODO: allocate resources and change to larget total_timesteps\n",
        "mario_ppo.learn(total_timesteps=10_000, tb_log_name='ppo_mlp_1m')"
      ],
      "metadata": {
        "id": "wL4RYvYYr731"
      },
      "execution_count": null,
      "outputs": []
    },
    {
      "cell_type": "code",
      "source": [
        "# @title Evaluate the model after some training\n",
        "evaluate(mario_ppo, mario_env, '/tmp/mario_train_eval_01.gif', best_of_n=2)\n",
        "displayImage(open('/tmp/mario_train_eval_01.gif','rb').read())"
      ],
      "metadata": {
        "id": "20nSwzyptCXw"
      },
      "execution_count": null,
      "outputs": []
    },
    {
      "cell_type": "code",
      "source": [
        "# @title Optionally, if you want to save your model and load\n",
        "# my_ppo.save('/tmp/your_mario_ai_path')\n",
        "# my_ppo = PPO.load('/tmp/your_mario_ai_path')\n",
        "# You can resume the training from where you saved!"
      ],
      "metadata": {
        "id": "bqc2kXNLuS8i"
      },
      "execution_count": null,
      "outputs": []
    }
  ]
}